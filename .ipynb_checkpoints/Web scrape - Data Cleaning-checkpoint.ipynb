{
 "cells": [
  {
   "cell_type": "code",
   "execution_count": 1,
   "metadata": {},
   "outputs": [],
   "source": [
    "import requests\n",
    "from bs4 import BeautifulSoup\n",
    "import numpy as np\n",
    "import pandas as pd"
   ]
  },
  {
   "cell_type": "code",
   "execution_count": 2,
   "metadata": {},
   "outputs": [],
   "source": [
    "#pd.set_option('display.max_rows', 150)"
   ]
  },
  {
   "cell_type": "code",
   "execution_count": 3,
   "metadata": {},
   "outputs": [],
   "source": [
    "def extracter(page,outer_block):\n",
    "    data_block=[]\n",
    "    listing=[]\n",
    "    title=[]\n",
    "    sal_range=[]\n",
    "    import requests\n",
    "    from bs4 import BeautifulSoup\n",
    "    import numpy as np\n",
    "    import pandas as pd\n",
    "#Connect webpage to jupyter & instantiate Beautiful Soup Flavour\n",
    "    wpage=requests.get(str(page))\n",
    "    msoup=BeautifulSoup(wpage.content,'html.parser')\n",
    "#Find block of desired data needed\n",
    "    data_block=msoup.find_all(class_= str(outer_block))\n",
    "#Extract all data within \n",
    "    for portion in data_block:\n",
    "        listing=portion.find_all(class_= 'tableRow')\n",
    "        for infos in listing:\n",
    "            title.append(infos.find(class_= 'leftCol left middle').get_text())\n",
    "            sal_range.append(infos.find(class_= 'rightCol right middle').get_text())\n",
    "    df = pd.DataFrame([{ 'A':title,'B':sal_range }])\n",
    "    return pd.DataFrame(list(zip(title,sal_range)),columns=['Title','Salary'])\n",
    "    "
   ]
  },
  {
   "cell_type": "code",
   "execution_count": 4,
   "metadata": {},
   "outputs": [],
   "source": [
    "def cleaner(df):\n",
    "    import re\n",
    "    df['Title']=df['Title'].map(lambda x: x[:-1])\n",
    "    #Intermediate wrangle range\n",
    "    df['Intermediate']=df['Salary'].map(lambda x: x.split('\\n')[0])\n",
    "    df['Intermediate_min']=df['Intermediate'].map(lambda x: x.split('-')[0])\n",
    "    df['Intermediate_max']=df['Intermediate'].map(lambda x: x.split('-')[1])\n",
    "    df['Intermediate_min']=df['Intermediate_min'].map(lambda x: re.findall(r'\\d+',x))                                                      \n",
    "    df['Intermediate_max']=df['Intermediate_max'].map(lambda x: re.findall(r'\\d+',x))\n",
    "\n",
    "    #Senior wrangle\n",
    "    df['Senior']=df['Salary'].map(lambda x: x.split('\\n')[1])\n",
    "    oddss=career_sal[career_sal['Salary'].map(lambda x: x.split('\\n')[0][0])=='S']['Salary']\n",
    "    \n",
    "      \n",
    "    #conditional rows\n",
    "    df.loc[df['Salary'].map(lambda x: x.split('\\n')[1]).str.len()==0, 'Senior']=np.nan\n",
    "    #df.loc[df['Salary'].map(lambda x: x.split('\\n')[1]).str.len()==0, 'Senior_min']=np.nan\n",
    "    #df.loc[df['Salary'].map(lambda x: x.split('\\n')[1]).str.len()==0, 'Senior_max']=np.nan\n",
    "    df.loc[df['Salary'].map(lambda x: x.split('\\n')[0][0])=='S', 'Intermediate']=np.nan\n",
    "    df.loc[df['Salary'].map(lambda x: x.split('\\n')[0][0])=='S', 'Intermediate_min']=np.nan\n",
    "    df.loc[df['Salary'].map(lambda x: x.split('\\n')[0][0])=='S', 'Intermediate_max']=np.nan\n",
    "    df.loc[df['Salary'].map(lambda x: x.split('\\n')[0][0])=='S', 'Senior']=oddss\n",
    "    \n",
    "    \n",
    "    df['Senior_min']=df['Senior'].astype('str').map(lambda x: x.split('-')[0])\n",
    "    df['Senior_max']=df['Senior'].dropna().map(lambda x: x.split('-')[1])                         \n",
    "    df['Senior_min']=df['Senior_min'].apply(lambda x: re.findall(r'\\d+',x))\n",
    "    df['Senior_max']=df['Senior_max'].astype('str').apply(lambda x: re.findall(r'\\d+',x))   \n",
    "    df.loc[(df['Salary'].map(lambda x: x.split('\\n')[1]).str.len()==0) & (df['Salary'].map(lambda x: x.split('\\n')[0][0])=='I'), 'Senior_min']=np.nan\n",
    "    df.loc[(df['Salary'].map(lambda x: x.split('\\n')[1]).str.len()==0) & (df['Salary'].map(lambda x: x.split('\\n')[0][0])=='I'), 'Senior_max']=np.nan\n",
    "    \n",
    "    return df"
   ]
  },
  {
   "cell_type": "code",
   "execution_count": 5,
   "metadata": {},
   "outputs": [
    {
     "data": {
      "text/html": [
       "<div>\n",
       "<style scoped>\n",
       "    .dataframe tbody tr th:only-of-type {\n",
       "        vertical-align: middle;\n",
       "    }\n",
       "\n",
       "    .dataframe tbody tr th {\n",
       "        vertical-align: top;\n",
       "    }\n",
       "\n",
       "    .dataframe thead th {\n",
       "        text-align: right;\n",
       "    }\n",
       "</style>\n",
       "<table border=\"1\" class=\"dataframe\">\n",
       "  <thead>\n",
       "    <tr style=\"text-align: right;\">\n",
       "      <th></th>\n",
       "      <th>Title</th>\n",
       "      <th>Salary</th>\n",
       "      <th>Intermediate</th>\n",
       "      <th>Intermediate_min</th>\n",
       "      <th>Intermediate_max</th>\n",
       "      <th>Senior</th>\n",
       "      <th>Senior_min</th>\n",
       "      <th>Senior_max</th>\n",
       "    </tr>\n",
       "  </thead>\n",
       "  <tbody>\n",
       "    <tr>\n",
       "      <td>0</td>\n",
       "      <td>Architectural Draughting</td>\n",
       "      <td>Intermediate R23,062 - R28,378\\nSenior R23,922...</td>\n",
       "      <td>Intermediate R23,062 - R28,378</td>\n",
       "      <td>[23, 062]</td>\n",
       "      <td>[28, 378]</td>\n",
       "      <td>Senior R23,922 - R31,000</td>\n",
       "      <td>[23, 922]</td>\n",
       "      <td>[31, 000]</td>\n",
       "    </tr>\n",
       "    <tr>\n",
       "      <td>1</td>\n",
       "      <td>Architecture</td>\n",
       "      <td>Senior R38,590 - R47,974\\n</td>\n",
       "      <td>NaN</td>\n",
       "      <td>NaN</td>\n",
       "      <td>NaN</td>\n",
       "      <td>Senior R38,590 - R47,974\\n</td>\n",
       "      <td>[38, 590]</td>\n",
       "      <td>[47, 974]</td>\n",
       "    </tr>\n",
       "    <tr>\n",
       "      <td>2</td>\n",
       "      <td>Automotive Engineering</td>\n",
       "      <td>Intermediate R25,300 - R35,667\\nSenior R41,944...</td>\n",
       "      <td>Intermediate R25,300 - R35,667</td>\n",
       "      <td>[25, 300]</td>\n",
       "      <td>[35, 667]</td>\n",
       "      <td>Senior R41,944 - R49,924</td>\n",
       "      <td>[41, 944]</td>\n",
       "      <td>[49, 924]</td>\n",
       "    </tr>\n",
       "    <tr>\n",
       "      <td>3</td>\n",
       "      <td>Civil / Structural Engineering</td>\n",
       "      <td>Intermediate R32,388 - R43,902\\nSenior R53,994...</td>\n",
       "      <td>Intermediate R32,388 - R43,902</td>\n",
       "      <td>[32, 388]</td>\n",
       "      <td>[43, 902]</td>\n",
       "      <td>Senior R53,994 - R70,826</td>\n",
       "      <td>[53, 994]</td>\n",
       "      <td>[70, 826]</td>\n",
       "    </tr>\n",
       "    <tr>\n",
       "      <td>4</td>\n",
       "      <td>Electrical Engineering</td>\n",
       "      <td>Intermediate R36,654 - R47,852\\nSenior R45,135...</td>\n",
       "      <td>Intermediate R36,654 - R47,852</td>\n",
       "      <td>[36, 654]</td>\n",
       "      <td>[47, 852]</td>\n",
       "      <td>Senior R45,135 - R51,054</td>\n",
       "      <td>[45, 135]</td>\n",
       "      <td>[51, 054]</td>\n",
       "    </tr>\n",
       "  </tbody>\n",
       "</table>\n",
       "</div>"
      ],
      "text/plain": [
       "                            Title  \\\n",
       "0        Architectural Draughting   \n",
       "1                    Architecture   \n",
       "2          Automotive Engineering   \n",
       "3  Civil / Structural Engineering   \n",
       "4          Electrical Engineering   \n",
       "\n",
       "                                              Salary  \\\n",
       "0  Intermediate R23,062 - R28,378\\nSenior R23,922...   \n",
       "1                         Senior R38,590 - R47,974\\n   \n",
       "2  Intermediate R25,300 - R35,667\\nSenior R41,944...   \n",
       "3  Intermediate R32,388 - R43,902\\nSenior R53,994...   \n",
       "4  Intermediate R36,654 - R47,852\\nSenior R45,135...   \n",
       "\n",
       "                     Intermediate Intermediate_min Intermediate_max  \\\n",
       "0  Intermediate R23,062 - R28,378        [23, 062]        [28, 378]   \n",
       "1                             NaN              NaN              NaN   \n",
       "2  Intermediate R25,300 - R35,667        [25, 300]        [35, 667]   \n",
       "3  Intermediate R32,388 - R43,902        [32, 388]        [43, 902]   \n",
       "4  Intermediate R36,654 - R47,852        [36, 654]        [47, 852]   \n",
       "\n",
       "                       Senior Senior_min Senior_max  \n",
       "0    Senior R23,922 - R31,000  [23, 922]  [31, 000]  \n",
       "1  Senior R38,590 - R47,974\\n  [38, 590]  [47, 974]  \n",
       "2    Senior R41,944 - R49,924  [41, 944]  [49, 924]  \n",
       "3    Senior R53,994 - R70,826  [53, 994]  [70, 826]  \n",
       "4    Senior R45,135 - R51,054  [45, 135]  [51, 054]  "
      ]
     },
     "execution_count": 5,
     "metadata": {},
     "output_type": "execute_result"
    }
   ],
   "source": [
    "career_sal=extracter('https://www.careerjunction.co.za/marketing/salarysurvey','contentTable')\n",
    "cleaner(career_sal)\n",
    "career_sal.head()"
   ]
  },
  {
   "cell_type": "code",
   "execution_count": 6,
   "metadata": {},
   "outputs": [],
   "source": [
    "def clean_int1(list1):\n",
    "    return int(str(''.join(list1)).replace('[','').replace(']','').replace(',',''))\n",
    "career_sal['Intermediate_min']=career_sal['Intermediate_min'].dropna().apply(clean_int1)\n",
    "career_sal['Intermediate_max']=career_sal['Intermediate_max'].dropna().dropna().apply(clean_int1)\n",
    "career_sal['Senior_min']=career_sal['Senior_min'].dropna().apply(clean_int1)\n",
    "career_sal['Senior_max']=career_sal['Senior_max'].dropna().apply(clean_int1)"
   ]
  },
  {
   "cell_type": "code",
   "execution_count": 7,
   "metadata": {},
   "outputs": [],
   "source": [
    "career_sal = career_sal.drop(['Salary','Intermediate','Senior'],axis=1)"
   ]
  },
  {
   "cell_type": "code",
   "execution_count": 8,
   "metadata": {},
   "outputs": [
    {
     "name": "stdout",
     "output_type": "stream",
     "text": [
      "<class 'pandas.core.frame.DataFrame'>\n",
      "RangeIndex: 103 entries, 0 to 102\n",
      "Data columns (total 5 columns):\n",
      "Title               103 non-null object\n",
      "Intermediate_min    102 non-null float64\n",
      "Intermediate_max    102 non-null float64\n",
      "Senior_min          86 non-null float64\n",
      "Senior_max          86 non-null float64\n",
      "dtypes: float64(4), object(1)\n",
      "memory usage: 4.1+ KB\n"
     ]
    }
   ],
   "source": [
    "career_sal.info()"
   ]
  },
  {
   "cell_type": "code",
   "execution_count": 9,
   "metadata": {},
   "outputs": [
    {
     "data": {
      "text/html": [
       "<div>\n",
       "<style scoped>\n",
       "    .dataframe tbody tr th:only-of-type {\n",
       "        vertical-align: middle;\n",
       "    }\n",
       "\n",
       "    .dataframe tbody tr th {\n",
       "        vertical-align: top;\n",
       "    }\n",
       "\n",
       "    .dataframe thead th {\n",
       "        text-align: right;\n",
       "    }\n",
       "</style>\n",
       "<table border=\"1\" class=\"dataframe\">\n",
       "  <thead>\n",
       "    <tr style=\"text-align: right;\">\n",
       "      <th></th>\n",
       "      <th>Intermediate_min</th>\n",
       "      <th>Intermediate_max</th>\n",
       "      <th>Senior_min</th>\n",
       "      <th>Senior_max</th>\n",
       "    </tr>\n",
       "  </thead>\n",
       "  <tbody>\n",
       "    <tr>\n",
       "      <td>count</td>\n",
       "      <td>102.000000</td>\n",
       "      <td>102.000000</td>\n",
       "      <td>86.000000</td>\n",
       "      <td>86.000000</td>\n",
       "    </tr>\n",
       "    <tr>\n",
       "      <td>mean</td>\n",
       "      <td>24885.205882</td>\n",
       "      <td>31659.460784</td>\n",
       "      <td>33202.965116</td>\n",
       "      <td>41815.058140</td>\n",
       "    </tr>\n",
       "    <tr>\n",
       "      <td>std</td>\n",
       "      <td>10501.724425</td>\n",
       "      <td>12676.806417</td>\n",
       "      <td>12102.182181</td>\n",
       "      <td>14848.292205</td>\n",
       "    </tr>\n",
       "    <tr>\n",
       "      <td>min</td>\n",
       "      <td>9119.000000</td>\n",
       "      <td>11390.000000</td>\n",
       "      <td>9714.000000</td>\n",
       "      <td>11846.000000</td>\n",
       "    </tr>\n",
       "    <tr>\n",
       "      <td>25%</td>\n",
       "      <td>16167.500000</td>\n",
       "      <td>21569.250000</td>\n",
       "      <td>24140.500000</td>\n",
       "      <td>30862.000000</td>\n",
       "    </tr>\n",
       "    <tr>\n",
       "      <td>50%</td>\n",
       "      <td>22221.500000</td>\n",
       "      <td>28040.000000</td>\n",
       "      <td>31444.500000</td>\n",
       "      <td>40460.500000</td>\n",
       "    </tr>\n",
       "    <tr>\n",
       "      <td>75%</td>\n",
       "      <td>33085.000000</td>\n",
       "      <td>41336.250000</td>\n",
       "      <td>41544.000000</td>\n",
       "      <td>52467.000000</td>\n",
       "    </tr>\n",
       "    <tr>\n",
       "      <td>max</td>\n",
       "      <td>58557.000000</td>\n",
       "      <td>70286.000000</td>\n",
       "      <td>66956.000000</td>\n",
       "      <td>79002.000000</td>\n",
       "    </tr>\n",
       "  </tbody>\n",
       "</table>\n",
       "</div>"
      ],
      "text/plain": [
       "       Intermediate_min  Intermediate_max    Senior_min    Senior_max\n",
       "count        102.000000        102.000000     86.000000     86.000000\n",
       "mean       24885.205882      31659.460784  33202.965116  41815.058140\n",
       "std        10501.724425      12676.806417  12102.182181  14848.292205\n",
       "min         9119.000000      11390.000000   9714.000000  11846.000000\n",
       "25%        16167.500000      21569.250000  24140.500000  30862.000000\n",
       "50%        22221.500000      28040.000000  31444.500000  40460.500000\n",
       "75%        33085.000000      41336.250000  41544.000000  52467.000000\n",
       "max        58557.000000      70286.000000  66956.000000  79002.000000"
      ]
     },
     "execution_count": 9,
     "metadata": {},
     "output_type": "execute_result"
    }
   ],
   "source": [
    "career_sal.describe()"
   ]
  },
  {
   "cell_type": "code",
   "execution_count": 10,
   "metadata": {},
   "outputs": [
    {
     "data": {
      "text/html": [
       "<div>\n",
       "<style scoped>\n",
       "    .dataframe tbody tr th:only-of-type {\n",
       "        vertical-align: middle;\n",
       "    }\n",
       "\n",
       "    .dataframe tbody tr th {\n",
       "        vertical-align: top;\n",
       "    }\n",
       "\n",
       "    .dataframe thead th {\n",
       "        text-align: right;\n",
       "    }\n",
       "</style>\n",
       "<table border=\"1\" class=\"dataframe\">\n",
       "  <thead>\n",
       "    <tr style=\"text-align: right;\">\n",
       "      <th></th>\n",
       "      <th>Title</th>\n",
       "      <th>Intermediate_min</th>\n",
       "      <th>Intermediate_max</th>\n",
       "      <th>Senior_min</th>\n",
       "      <th>Senior_max</th>\n",
       "    </tr>\n",
       "  </thead>\n",
       "  <tbody>\n",
       "    <tr>\n",
       "      <td>0</td>\n",
       "      <td>Architectural Draughting</td>\n",
       "      <td>23062.0</td>\n",
       "      <td>28378.0</td>\n",
       "      <td>23922.0</td>\n",
       "      <td>31000.0</td>\n",
       "    </tr>\n",
       "    <tr>\n",
       "      <td>1</td>\n",
       "      <td>Architecture</td>\n",
       "      <td>NaN</td>\n",
       "      <td>NaN</td>\n",
       "      <td>38590.0</td>\n",
       "      <td>47974.0</td>\n",
       "    </tr>\n",
       "    <tr>\n",
       "      <td>2</td>\n",
       "      <td>Automotive Engineering</td>\n",
       "      <td>25300.0</td>\n",
       "      <td>35667.0</td>\n",
       "      <td>41944.0</td>\n",
       "      <td>49924.0</td>\n",
       "    </tr>\n",
       "    <tr>\n",
       "      <td>3</td>\n",
       "      <td>Civil / Structural Engineering</td>\n",
       "      <td>32388.0</td>\n",
       "      <td>43902.0</td>\n",
       "      <td>53994.0</td>\n",
       "      <td>70826.0</td>\n",
       "    </tr>\n",
       "    <tr>\n",
       "      <td>4</td>\n",
       "      <td>Electrical Engineering</td>\n",
       "      <td>36654.0</td>\n",
       "      <td>47852.0</td>\n",
       "      <td>45135.0</td>\n",
       "      <td>51054.0</td>\n",
       "    </tr>\n",
       "  </tbody>\n",
       "</table>\n",
       "</div>"
      ],
      "text/plain": [
       "                            Title  Intermediate_min  Intermediate_max  \\\n",
       "0        Architectural Draughting           23062.0           28378.0   \n",
       "1                    Architecture               NaN               NaN   \n",
       "2          Automotive Engineering           25300.0           35667.0   \n",
       "3  Civil / Structural Engineering           32388.0           43902.0   \n",
       "4          Electrical Engineering           36654.0           47852.0   \n",
       "\n",
       "   Senior_min  Senior_max  \n",
       "0     23922.0     31000.0  \n",
       "1     38590.0     47974.0  \n",
       "2     41944.0     49924.0  \n",
       "3     53994.0     70826.0  \n",
       "4     45135.0     51054.0  "
      ]
     },
     "execution_count": 10,
     "metadata": {},
     "output_type": "execute_result"
    }
   ],
   "source": [
    "career_sal.head()"
   ]
  },
  {
   "cell_type": "code",
   "execution_count": 11,
   "metadata": {},
   "outputs": [],
   "source": [
    "import matplotlib.pyplot as plt\n",
    "%matplotlib inline "
   ]
  },
  {
   "cell_type": "code",
   "execution_count": 13,
   "metadata": {},
   "outputs": [
    {
     "data": {
      "text/plain": [
       "<Figure size 720x720 with 0 Axes>"
      ]
     },
     "execution_count": 13,
     "metadata": {},
     "output_type": "execute_result"
    },
    {
     "data": {
      "image/png": "[encoded data removed]",
      "text/plain": [
       "<Figure size 1008x648 with 1 Axes>"
      ]
     },
     "metadata": {
      "needs_background": "light"
     },
     "output_type": "display_data"
    },
    {
     "data": {
      "text/plain": [
       "<Figure size 720x720 with 0 Axes>"
      ]
     },
     "metadata": {},
     "output_type": "display_data"
    }
   ],
   "source": [
    "Highest_paid=career_sal[['Title','Senior_max','Senior_min']].sort_values('Senior_max',ascending=False,).head(20)\n",
    "Highest_paid.set_index('Title').plot(kind='bar',figsize=(14,9))\n",
    "plt.xticks(rotation=70)\n",
    "plt.figure(figsize=(10,10))"
   ]
  },
  {
   "cell_type": "code",
   "execution_count": 14,
   "metadata": {},
   "outputs": [],
   "source": [
    "def check_value():\n",
    "    title=input('Please insert Title :')\n",
    "    Level=input('Please insert Employee level :')\n",
    "    #career_sal=career_sal.to_string(index=False)\n",
    "    career_sal[career_sal['Title']==title]\n",
    "    int_min=career_sal[career_sal['Title']==title]['Intermediate_min']\n",
    "    int_max=career_sal[career_sal['Title']==title]['Intermediate_max']\n",
    "    sen_min=career_sal[career_sal['Title']==title]['Senior_min']\n",
    "    sen_max=career_sal[career_sal['Title']==title]['Senior_max']\n",
    "    \n",
    "    if Level=='Intermediate':\n",
    "        print(title, '- Intermediate\\n', '\\nMinimun Salary : R',int_min.to_string(index=False), '\\nMaximum Salary : R',int_max.to_string(index=False))\n",
    "    if Level=='Senior':\n",
    "        print(title,'- Senior\\n', '\\nMinimun Salary : R',sen_min.to_string(index=False), '\\nMaximum Salary : R',sen_max.to_string(index=False))"
   ]
  },
  {
   "cell_type": "code",
   "execution_count": 15,
   "metadata": {},
   "outputs": [
    {
     "name": "stdout",
     "output_type": "stream",
     "text": [
      "Please insert Title :Systems Analysis\n",
      "Please insert Employee level :Intermediate\n",
      "Systems Analysis - Intermediate\n",
      " \n",
      "Minimun Salary : R  34722.0 \n",
      "Maximum Salary : R  44484.0\n"
     ]
    }
   ],
   "source": [
    "check_value()"
   ]
  },
  {
   "cell_type": "code",
   "execution_count": null,
   "metadata": {},
   "outputs": [],
   "source": []
  }
 ],
 "metadata": {
  "kernelspec": {
   "display_name": "Python 3",
   "language": "python",
   "name": "python3"
  },
  "language_info": {
   "codemirror_mode": {
    "name": "ipython",
    "version": 3
   },
   "file_extension": ".py",
   "mimetype": "text/x-python",
   "name": "python",
   "nbconvert_exporter": "python",
   "pygments_lexer": "ipython3",
   "version": "3.7.4"
  }
 },
 "nbformat": 4,
 "nbformat_minor": 2
}
